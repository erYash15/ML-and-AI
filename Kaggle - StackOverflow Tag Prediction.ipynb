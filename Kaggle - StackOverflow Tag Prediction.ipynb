{
 "cells": [
  {
   "cell_type": "markdown",
   "metadata": {},
   "source": [
    "## Import Modules"
   ]
  },
  {
   "cell_type": "code",
   "execution_count": 14,
   "metadata": {},
   "outputs": [],
   "source": [
    "import pandas as pd\n",
    "from sqlalchemy import create_engine\n",
    "from tqdm import tqdm_notebook\n",
    "import datetime\n",
    "import os\n",
    "import sqlite3"
   ]
  },
  {
   "cell_type": "markdown",
   "metadata": {},
   "source": [
    "## Pulling Data"
   ]
  },
  {
   "cell_type": "markdown",
   "metadata": {},
   "source": [
    "Training Data"
   ]
  },
  {
   "cell_type": "code",
   "execution_count": null,
   "metadata": {},
   "outputs": [],
   "source": [
    "if not os.path.isfile('train.db'):\n",
    "    start = datetime.datetime.now()\n",
    "    disk_engine = create_engine('sqlite:///train.db')\n",
    "    c_s = 150000\n",
    "    index_start = 1\n",
    "    for df in tqdm_notebook(pd.read_csv('Train.csv', chunksize=c_s, iterator=True, encoding='utf-8')):\n",
    "        df.index += index_start\n",
    "        df.to_sql('data', disk_engine, if_exists='append')\n",
    "        index_start = df.index[-1] + 1\n",
    "    print(\"Total Running Time\", datetime.datetime.now()-start )\n",
    "    print(\"Database file train.db Saved\")"
   ]
  },
  {
   "cell_type": "markdown",
   "metadata": {},
   "source": [
    "Testing Data "
   ]
  },
  {
   "cell_type": "code",
   "execution_count": 8,
   "metadata": {
    "scrolled": true
   },
   "outputs": [
    {
     "data": {
      "application/vnd.jupyter.widget-view+json": {
       "model_id": "8f3000da8fb04d5a99c20f907d91e1ee",
       "version_major": 2,
       "version_minor": 0
      },
      "text/plain": [
       "HBox(children=(IntProgress(value=1, bar_style='info', max=1), HTML(value='')))"
      ]
     },
     "metadata": {},
     "output_type": "display_data"
    },
    {
     "name": "stdout",
     "output_type": "stream",
     "text": [
      "\n",
      "Total Running Time 0:01:33.566008\n",
      "Database file test.db Saved\n"
     ]
    }
   ],
   "source": [
    "if not os.path.isfile('test.db'):\n",
    "    start = datetime.datetime.now()\n",
    "    disk_engine = create_engine('sqlite:///test.db')\n",
    "    c_s = 150000\n",
    "    index_start = 1\n",
    "    for df in tqdm_notebook(pd.read_csv('Test.csv', chunksize=c_s, iterator=True, encoding='utf-8')):\n",
    "        df.index += index_start\n",
    "        df.to_sql('data', disk_engine, if_exists='append')\n",
    "        index_start = df.index[-1] + 1\n",
    "    print(\"Total Running Time\", datetime.datetime.now()-start )\n",
    "    print(\"Database file test.db Saved\")"
   ]
  },
  {
   "cell_type": "markdown",
   "metadata": {},
   "source": [
    "Count the Number of Rows"
   ]
  },
  {
   "cell_type": "code",
   "execution_count": 18,
   "metadata": {},
   "outputs": [
    {
     "name": "stdout",
     "output_type": "stream",
     "text": [
      "   COUNT(*)\n",
      "0   6034195\n"
     ]
    }
   ],
   "source": [
    "if os.path.isfile('train.db'):\n",
    "    con = sqlite3.connect('train.db')\n",
    "    num_rows = pd.read_sql_query(\"\"\"SELECT COUNT(*) FROM data\"\"\",con)\n",
    "    con.close()\n",
    "    print(num_rows)\n",
    "else:\n",
    "    print(\"Required Database Not Found\")"
   ]
  },
  {
   "cell_type": "markdown",
   "metadata": {},
   "source": [
    "Checking for Duplicates"
   ]
  },
  {
   "cell_type": "code",
   "execution_count": null,
   "metadata": {},
   "outputs": [],
   "source": [
    "if os.path.isfile('train.db'):\n",
    "    start = datetime.datetime.now()\n",
    "    con = sqlite3.connect('train.db')\n",
    "    df_no_dup = pd.read_sql_query(\"\"\"SELECT Title, Body, Tags, COUNT(*) AS cnt_dup FROM data GROUP BY \n",
    "    Title, Body, Tags\"\"\", con)\n",
    "    con.close()\n",
    "    print(\"Running time for checking the Duplicates\", datetime.datetime.now() - start)\n",
    "else:\n",
    "    print(\"Required Database Not Found!\")"
   ]
  },
  {
   "cell_type": "code",
   "execution_count": null,
   "metadata": {},
   "outputs": [],
   "source": []
  }
 ],
 "metadata": {
  "kernelspec": {
   "display_name": "Python 3",
   "language": "python",
   "name": "python3"
  },
  "language_info": {
   "codemirror_mode": {
    "name": "ipython",
    "version": 3
   },
   "file_extension": ".py",
   "mimetype": "text/x-python",
   "name": "python",
   "nbconvert_exporter": "python",
   "pygments_lexer": "ipython3",
   "version": "3.7.1"
  }
 },
 "nbformat": 4,
 "nbformat_minor": 2
}
