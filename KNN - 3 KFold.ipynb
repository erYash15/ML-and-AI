{
 "cells": [
  {
   "cell_type": "code",
   "execution_count": 26,
   "metadata": {},
   "outputs": [],
   "source": [
    "import numpy as np\n",
    "import pandas as pd\n",
    "import matplotlib.pyplot as plt"
   ]
  },
  {
   "cell_type": "code",
   "execution_count": 30,
   "metadata": {},
   "outputs": [],
   "source": [
    "from sklearn.cross_validation import train_test_split\n",
    "from sklearn.neighbors import KNeighborsClassifier\n",
    "from sklearn.metrics import accuracy_score\n",
    "from sklearn.cross_validation import cross_val_score\n",
    "from collections import Counter\n",
    "from sklearn.metrics import accuracy_score\n",
    "from sklearn import cross_validation"
   ]
  },
  {
   "cell_type": "code",
   "execution_count": 45,
   "metadata": {},
   "outputs": [
    {
     "name": "stdout",
     "output_type": "stream",
     "text": [
      "[[ 0.70033457 -0.24706758  0.        ]\n",
      " [-3.95001869  2.74007953  1.        ]\n",
      " [ 0.15022162 -2.1576378   1.        ]\n",
      " ...\n",
      " [ 0.89418044  3.06995865  0.        ]\n",
      " [ 0.84943908  3.87543489  0.        ]\n",
      " [ 5.21744335  1.40081765  0.        ]]\n",
      "[0. 1. 1. 1. 1. 1. 1. 0. 1. 1. 0. 1. 1. 0. 1. 1. 1. 1. 1. 1. 1. 0. 1. 0.\n",
      " 0. 1. 0. 0. 1. 1. 0. 1. 0. 1. 1. 1. 0. 1. 0. 1. 0. 1. 1. 0. 0. 0. 1. 1.\n",
      " 0. 1. 0. 0. 0. 1. 0. 1. 1. 0. 1. 0. 1. 1. 1. 0. 0. 0. 1. 0. 1. 1. 1. 0.\n",
      " 1. 0. 1. 0. 1. 0. 0. 1. 1. 0. 1. 0. 0. 0. 0. 1. 0. 1. 0. 0. 1. 0. 1. 1.\n",
      " 0. 1. 0. 0. 1. 0. 0. 0. 0. 0. 1. 0. 0. 0. 1. 0. 1. 1. 1. 0. 1. 1. 0. 0.\n",
      " 0. 1. 1. 0. 1. 0. 1. 1. 0. 1. 1. 1. 0. 0. 1. 0. 1. 0. 1. 1. 1. 0. 1. 0.\n",
      " 0. 0. 0. 0. 1. 0. 0. 0. 0. 0. 0. 1. 1. 0. 1. 1. 0. 0. 1. 1. 0. 0. 1. 0.\n",
      " 0. 0. 0. 1. 0. 0. 0. 1. 0. 1. 0. 0. 0. 1. 1. 1. 1. 0. 1. 1. 0. 1. 1. 1.\n",
      " 0. 0. 1. 0. 0. 1. 1. 0. 0. 0. 1. 1. 1. 1. 0. 1. 1. 0. 0. 0. 1. 0. 0. 1.\n",
      " 1. 0. 1. 0. 1. 0. 1. 1. 1. 1. 0. 1. 1. 0. 1. 0. 0. 0. 0. 1. 0. 1. 0. 1.\n",
      " 1. 0. 1. 1. 0. 1. 1. 0. 0. 0. 0. 0. 0. 1. 1. 0. 1. 0. 1. 1. 0. 0. 0. 1.\n",
      " 1. 0. 0. 1. 0. 1. 1. 1. 1. 0. 1. 1. 0. 1. 1. 0. 1. 1. 1. 0. 1. 0. 1. 1.\n",
      " 1. 1. 0. 1. 0. 0. 0. 0. 1. 0. 0. 0. 1. 0. 1. 0. 0. 1. 1. 1. 0. 1. 0. 0.\n",
      " 0. 1. 0. 1. 0. 0. 0. 1. 0. 1. 0. 1. 0. 1. 1. 0. 0. 1. 0. 1. 1. 0. 0. 0.\n",
      " 0. 0. 1. 0. 0. 1. 1. 0. 1. 0. 1. 0. 0. 1. 0. 1. 0. 1. 1. 0. 0. 1. 0. 1.\n",
      " 0. 1. 1. 0. 1. 1. 0. 1. 1. 0. 1. 1. 0. 1. 1. 1. 0. 0. 0. 0. 1. 1. 1. 1.\n",
      " 1. 1. 1. 0. 1. 0. 1. 1. 1. 1. 1. 0. 1. 1. 1. 1. 0. 0. 1. 0. 0. 1. 0. 0.\n",
      " 0. 1. 1. 0. 0. 1. 0. 1. 0. 1. 1. 1. 1. 0. 1. 1. 0. 1. 0. 1. 1. 0. 1. 1.\n",
      " 0. 0. 1. 0. 1. 0. 0. 1. 0. 1. 0. 0. 1. 0. 1. 1. 1. 0. 1. 0. 0. 0. 1. 0.\n",
      " 1. 0. 1. 1. 0. 0. 1. 0. 0. 1. 1. 1. 1. 0. 0. 1. 0. 0. 1. 0. 0. 0. 1. 0.\n",
      " 1. 0. 0. 0. 0. 1. 0. 0. 0. 0. 0. 0. 1. 0. 0. 1. 1. 0. 0. 0.]\n"
     ]
    }
   ],
   "source": [
    "# Part I  data preprocessing\n",
    "# column names\n",
    "names = ['x', 'y', 'class']\n",
    "#loading training data\n",
    "df = pd.read_csv('D:/Applied AI Course/18 CLASSIFICATION AND REGRESSION MODELS K-NEAREST NEIGHBORS/data/demo_data/3.concertriccir2.csv', header=None, names=names)\n",
    "#print(df.head(5))\n",
    "X = np.array(df.iloc[:, 0:3]) # index\n",
    "y = np.array(df['class']) # two ways of indexing a pandas df\n",
    "print(X)\n",
    "print(y)"
   ]
  },
  {
   "cell_type": "code",
   "execution_count": 50,
   "metadata": {},
   "outputs": [
    {
     "name": "stdout",
     "output_type": "stream",
     "text": [
      "accuracy is 100.0 on k =  1\n",
      "accuracy is 100.0 on k =  3\n",
      "accuracy is 100.0 on k =  5\n",
      "accuracy is 98.09523809523809 on k =  7\n",
      "accuracy is 96.19047619047619 on k =  9\n",
      "accuracy is 89.52380952380953 on k =  11\n",
      "accuracy is 88.57142857142857 on k =  13\n",
      "accuracy is 88.57142857142857 on k =  15\n",
      "accuracy is 85.71428571428571 on k =  17\n",
      "accuracy is 83.80952380952381 on k =  19\n",
      "accuracy is 81.9047619047619 on k =  21\n",
      "accuracy is 80.95238095238095 on k =  23\n",
      "accuracy is 80.0 on k =  25\n",
      "accuracy is 80.0 on k =  27\n",
      "accuracy is 78.0952380952381 on k =  29\n"
     ]
    }
   ],
   "source": [
    "#spliting data\n",
    "X_1, X_test, y_1, y_test = train_test_split(X, y, test_size=0.3, random_state=0)#random_state denotes the seed\n",
    "#splitting X_1 and y_1 again\n",
    "X_tr, X_cv, y_tr,y_cv = train_test_split(X_1,y_1,test_size=0.3)\n",
    "\n",
    "for i in range(1,30,2):\n",
    "    #only the odd no's till 30\n",
    "    knn_model = KNeighborsClassifier(n_neighbors=i)\n",
    "    knn_model.fit(X_tr,y_tr)\n",
    "    #predict on cv\n",
    "    pred = knn_model.predict(X_cv)\n",
    "    #find accuracy on cv\n",
    "    acc = accuracy_score(y_cv, pred, normalize=True) * float(100)\n",
    "    print('accuracy is' , acc, 'on k = ',i)"
   ]
  },
  {
   "cell_type": "code",
   "execution_count": 51,
   "metadata": {},
   "outputs": [
    {
     "name": "stdout",
     "output_type": "stream",
     "text": [
      "accuracy is 99.33333333333333 on k =  1\n"
     ]
    }
   ],
   "source": [
    "#as accuracy is 100 for k=1 lets take it only as k for test dataset\n",
    "knn_model2= KNeighborsClassifier(n_neighbors=1)\n",
    "knn_model2.fit(X_1,y_1)\n",
    "pred2 = knn_model2.predict(X_test)\n",
    "acc2 = accuracy_score(y_test,pred2, normalize =True) * float(100)\n",
    "print('accuracy is' , acc2, 'on k = ',1)"
   ]
  },
  {
   "cell_type": "markdown",
   "metadata": {},
   "source": [
    "# 10 cross validation directly on python"
   ]
  },
  {
   "cell_type": "code",
   "execution_count": 52,
   "metadata": {},
   "outputs": [],
   "source": [
    "myList = list(range(0,50))\n",
    "neighbors = list(filter(lambda x: x%2 != 0, myList))"
   ]
  },
  {
   "cell_type": "code",
   "execution_count": 66,
   "metadata": {},
   "outputs": [
    {
     "name": "stdout",
     "output_type": "stream",
     "text": [
      "[0.8858823529411766, 0.8858823529411766, 0.8858823529411766, 0.8858823529411766, 0.8858823529411766, 0.8858823529411766, 0.8858823529411766, 0.8858823529411766, 0.8858823529411766, 0.8858823529411766, 0.8858823529411766, 0.8858823529411766, 0.8858823529411766, 0.8858823529411766, 0.8858823529411766, 0.8858823529411766, 0.8858823529411766, 0.8858823529411766, 0.8858823529411766, 0.8858823529411766, 0.8858823529411766, 0.8858823529411766, 0.8858823529411766, 0.8858823529411766, 0.8858823529411766]\n"
     ]
    }
   ],
   "source": [
    "cv_scores = []\n",
    "for k in neighbors:\n",
    "    knnn_model = KNeighborsClassifier(n_neighbors=k)\n",
    "    scores = cross_val_score(knn_model, X_1, y_1, cv = 10, scoring ='accuracy')\n",
    "    cv_scores.append(scores.mean())\n",
    "print(cv_scores)"
   ]
  },
  {
   "cell_type": "code",
   "execution_count": 68,
   "metadata": {},
   "outputs": [],
   "source": [
    "#MISS CLASSIFICATION ERROR\n",
    "MSE = [1 - x for x in cv_scores]"
   ]
  }
 ],
 "metadata": {
  "kernelspec": {
   "display_name": "Python 3",
   "language": "python",
   "name": "python3"
  },
  "language_info": {
   "codemirror_mode": {
    "name": "ipython",
    "version": 3
   },
   "file_extension": ".py",
   "mimetype": "text/x-python",
   "name": "python",
   "nbconvert_exporter": "python",
   "pygments_lexer": "ipython3",
   "version": "3.6.4"
  }
 },
 "nbformat": 4,
 "nbformat_minor": 2
}
