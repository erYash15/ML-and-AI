{
 "cells": [
  {
   "cell_type": "code",
   "execution_count": 7,
   "metadata": {},
   "outputs": [],
   "source": [
    "import sqlite3"
   ]
  },
  {
   "cell_type": "code",
   "execution_count": 8,
   "metadata": {},
   "outputs": [],
   "source": [
    "db = sqlite3.connect('mydb')"
   ]
  },
  {
   "cell_type": "code",
   "execution_count": 9,
   "metadata": {},
   "outputs": [],
   "source": [
    "db.close()"
   ]
  },
  {
   "cell_type": "code",
   "execution_count": 10,
   "metadata": {},
   "outputs": [
    {
     "name": "stdout",
     "output_type": "stream",
     "text": [
      "Drop Command Successful\n",
      "Table Created\n"
     ]
    }
   ],
   "source": [
    "db = sqlite3.connect('mydb')\n",
    "cur = db.cursor()\n",
    "if(cur.execute(\"DROP TABLE IF EXIsTS custs\")):\n",
    "    print(\"Drop Command Successful\")\n",
    "\n",
    "if(cur.execute(\"CREATE TABLE custs(id INTEGER PRIMARY KEY,\\\n",
    "                name TEXT, phone TEXT,email TEXT unique, course TEXT)\")):\n",
    "    print('Table Created')\n",
    "    \n",
    "db.commit()\n",
    "cur.close()\n",
    "db.close()"
   ]
  },
  {
   "cell_type": "code",
   "execution_count": 11,
   "metadata": {},
   "outputs": [
    {
     "name": "stdout",
     "output_type": "stream",
     "text": [
      "1 Record Insert Sucessfully\n",
      "2 Record Insert Sucessfully\n",
      "3 Record Insert Sucessfully\n",
      "4 Record Insert Sucessfully\n"
     ]
    }
   ],
   "source": [
    "db = sqlite3.connect('mydb')\n",
    "cur = db.cursor()\n",
    "#insert into custs\n",
    "if( cur.execute(\"INSERT INTO custs(name,course) VALUES (?,?)\",\n",
    "               ('Anup','Python'))):\n",
    "    print('1 Record Insert Sucessfully')\n",
    "\n",
    "if(cur.execute(\"INSERT INTO custs(name,course) values (?,?)\",\n",
    "              ('swaroop','hadoop'))):\n",
    "    print('2 Record Insert Sucessfully')\n",
    "\n",
    "if(cur.execute(\"INSERT INTO custs(name,course) values (:name,:course)\",\n",
    "              {'name':'Vishal','course':'data science'})):\n",
    "    print('3 Record Insert Sucessfully')\n",
    "\n",
    "if(cur.executemany(\"INSERT INTO custs(name,course) values (?,?)\",\n",
    "              [('Pranay','Web App'),('viraj','Android')])):\n",
    "    print('4 Record Insert Sucessfully')\n",
    "    \n",
    "db.commit()\n",
    "cur.close()\n",
    "db.close()"
   ]
  },
  {
   "cell_type": "code",
   "execution_count": null,
   "metadata": {},
   "outputs": [],
   "source": []
  },
  {
   "cell_type": "code",
   "execution_count": 12,
   "metadata": {},
   "outputs": [
    {
     "name": "stdout",
     "output_type": "stream",
     "text": [
      "Recod cursor is ready\n",
      "---------------\n",
      "('Anup', 'Python')\n",
      "------------------\n",
      "swaroop hadoop\n",
      "Vishal data science\n",
      "Pranay Web App\n",
      "viraj Android\n"
     ]
    }
   ],
   "source": [
    "##select##\n",
    "\n",
    "db = sqlite3.connect('mydb')\n",
    "# get a cursor object\n",
    "cur = db.cursor()\n",
    "#select cursor for custs\n",
    "if(cur.execute(\"SELECT name,course from custs\")):\n",
    "    print('Recod cursor is ready')\n",
    "print('---------------')\n",
    "\n",
    "#fetch using fetchone\n",
    "record1 = cur.fetchone()\n",
    "print(record1)\n",
    "print(\"------------------\")\n",
    "\n",
    "#fetch using fetchall\n",
    "recordsall = cur.fetchall()\n",
    "for record in recordsall:\n",
    "    print(record[0],record[1])\n",
    "\n",
    "db.commit()\n",
    "\n",
    "cur.close()\n",
    "db.close()"
   ]
  },
  {
   "cell_type": "code",
   "execution_count": 13,
   "metadata": {},
   "outputs": [
    {
     "name": "stdout",
     "output_type": "stream",
     "text": [
      "record cursor is ready\n",
      "====================\n",
      "Anup Python\n",
      "swaroop hadoop\n",
      "Vishal data science\n",
      "Pranay Web App\n",
      "viraj Android\n",
      "record cursor is ready\n",
      "==============\n",
      "Anup Python\n"
     ]
    }
   ],
   "source": [
    "db = sqlite3.connect('mydb')\n",
    "cur = db.cursor()\n",
    "\n",
    "if(cur.execute(\"SELECT name,course from custs\")):\n",
    "    print(\"record cursor is ready\")\n",
    "print(\"====================\")\n",
    "\n",
    "for record in cur:\n",
    "    print(record[0],record[1])\n",
    "    \n",
    "#select with where clause\n",
    "if(cur.execute(\"SELECT name,course from custs where name = ?\",('Anup',))):\n",
    "    print(\"record cursor is ready\")\n",
    "\n",
    "print(\"==============\")\n",
    "\n",
    "for record in cur:\n",
    "    print(record[0],record[1])\n",
    "\n",
    "db.commit()\n",
    "cur.close()\n",
    "db.close()"
   ]
  },
  {
   "cell_type": "code",
   "execution_count": 18,
   "metadata": {},
   "outputs": [
    {
     "name": "stdout",
     "output_type": "stream",
     "text": [
      "Record Updated\n",
      "record cursor is ready\n",
      "------------------\n",
      "Anup Spark\n"
     ]
    }
   ],
   "source": [
    "##UPDATE##\n",
    "db = sqlite3.connect ('mydb')\n",
    "#get a cursor object\n",
    "#update the row in custs\n",
    "cur = db.cursor()\n",
    "if(cur.execute(\"UPDATE custs SET course = ? WHERE name = ?\",('Spark','Anup'))):\n",
    "    print(\"Record Updated\")\n",
    "\n",
    "#select with where clause\n",
    "if(cur.execute(\"select name,course From custs where name = ?\",('Anup',))):\n",
    "    print(\"record cursor is ready\")\n",
    "print(\"------------------\")\n",
    "\n",
    "#cursor object used as iterator\n",
    "for record in cur:\n",
    "   print(record[0],record[1])\n",
    "\n",
    "db.commit()\n",
    "   \n",
    "cur.close()\n",
    "db.close()\n"
   ]
  },
  {
   "cell_type": "code",
   "execution_count": 20,
   "metadata": {},
   "outputs": [
    {
     "name": "stdout",
     "output_type": "stream",
     "text": [
      "Record Updated\n",
      "record cursor is ready\n",
      "------------------\n",
      "Anup Spark\n",
      "Vishal data science\n",
      "Pranay Web App\n",
      "viraj Android\n"
     ]
    }
   ],
   "source": [
    "db = sqlite3.connect ('mydb')\n",
    "#get a cursor object\n",
    "#update the row in custs\n",
    "cur = db.cursor()\n",
    "if(cur.execute(\"DELETE FROM custs WHERE name = ?\",('swaroop',))):\n",
    "    print(\"Record Updated\")\n",
    "\n",
    "#select with where clause\n",
    "if(cur.execute(\"select name,course From custs\")):\n",
    "    print(\"record cursor is ready\")\n",
    "print(\"------------------\")\n",
    "\n",
    "#cursor object used as iterator\n",
    "for record in cur:\n",
    "   print(record[0],record[1])\n",
    "\n",
    "db.commit()\n",
    "   \n",
    "cur.close()\n",
    "db.close()\n"
   ]
  },
  {
   "cell_type": "code",
   "execution_count": 23,
   "metadata": {},
   "outputs": [
    {
     "name": "stdout",
     "output_type": "stream",
     "text": [
      "table drop\n"
     ]
    }
   ],
   "source": [
    "db = sqlite3.connect ('mydb')\n",
    "#get a cursor object\n",
    "#update the row in custs\n",
    "cur = db.cursor()\n",
    "if(cur.execute(\"DROP TABLE custs\")):\n",
    "    print(\"table drop\")\n",
    "\n",
    "#select with where clause\n",
    "\n",
    "\n",
    "db.commit()\n",
    "   \n",
    "cur.close()\n",
    "db.close()"
   ]
  },
  {
   "cell_type": "code",
   "execution_count": null,
   "metadata": {},
   "outputs": [],
   "source": []
  }
 ],
 "metadata": {
  "kernelspec": {
   "display_name": "Python 3",
   "language": "python",
   "name": "python3"
  },
  "language_info": {
   "codemirror_mode": {
    "name": "ipython",
    "version": 3
   },
   "file_extension": ".py",
   "mimetype": "text/x-python",
   "name": "python",
   "nbconvert_exporter": "python",
   "pygments_lexer": "ipython3",
   "version": "3.7.1"
  }
 },
 "nbformat": 4,
 "nbformat_minor": 2
}
