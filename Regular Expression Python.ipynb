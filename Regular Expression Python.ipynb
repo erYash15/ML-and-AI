{
 "cells": [
  {
   "cell_type": "code",
   "execution_count": 38,
   "metadata": {},
   "outputs": [],
   "source": [
    "import re\n",
    "\n",
    "text_to_search = '''\n",
    "abcdefghijklmnopqrstuvqxyz\n",
    "ABCDEFGHIJKLMNOPQRSTUVWXYZ\n",
    "1234567890\n",
    "\n",
    "Ha HaHa HaHaHa\n",
    "\n",
    "MetaCharacters (Need to be escaped):\n",
    ". ^ $ * + ? { } [ ] \\ | ( )\n",
    "\n",
    "coreyms.com\n",
    "\n",
    "321-555-4321\n",
    "123.555.1234\n",
    "123*555*1234\n",
    "\n",
    "\n",
    "Mr. Schafer\n",
    "Mr Smith\n",
    "Ms Davis\n",
    "Mrs. Robinson\n",
    "Mr. T\n",
    "'''\n",
    "sentence = 'Start a sentence and then bring it to an end'\n"
   ]
  },
  {
   "cell_type": "code",
   "execution_count": 3,
   "metadata": {},
   "outputs": [
    {
     "name": "stdout",
     "output_type": "stream",
     "text": [
      "\tTAB\n",
      "\\tTab\n"
     ]
    }
   ],
   "source": [
    "print('\\tTAB')\n",
    "print(r'\\tTab')#raw string"
   ]
  },
  {
   "cell_type": "code",
   "execution_count": 11,
   "metadata": {},
   "outputs": [
    {
     "name": "stdout",
     "output_type": "stream",
     "text": [
      "<re.Match object; span=(1, 4), match='abc'>\n"
     ]
    }
   ],
   "source": [
    "pattern = re.compile(r'abc')\n",
    "matches = pattern.finditer(text_to_search)\n",
    "\n",
    "for match in matches:\n",
    "    print(match)"
   ]
  },
  {
   "cell_type": "code",
   "execution_count": 9,
   "metadata": {},
   "outputs": [
    {
     "name": "stdout",
     "output_type": "stream",
     "text": [
      "abc\n"
     ]
    }
   ],
   "source": [
    "print(text_to_search[1:4])"
   ]
  },
  {
   "cell_type": "markdown",
   "metadata": {},
   "source": [
    "### escaping characters example"
   ]
  },
  {
   "cell_type": "code",
   "execution_count": 13,
   "metadata": {},
   "outputs": [
    {
     "name": "stdout",
     "output_type": "stream",
     "text": [
      "<re.Match object; span=(1, 2), match='a'>\n",
      "<re.Match object; span=(2, 3), match='b'>\n",
      "<re.Match object; span=(3, 4), match='c'>\n",
      "<re.Match object; span=(4, 5), match='d'>\n",
      "<re.Match object; span=(5, 6), match='e'>\n",
      "<re.Match object; span=(6, 7), match='f'>\n",
      "<re.Match object; span=(7, 8), match='g'>\n",
      "<re.Match object; span=(8, 9), match='h'>\n",
      "<re.Match object; span=(9, 10), match='i'>\n",
      "<re.Match object; span=(10, 11), match='j'>\n",
      "<re.Match object; span=(11, 12), match='k'>\n",
      "<re.Match object; span=(12, 13), match='l'>\n",
      "<re.Match object; span=(13, 14), match='m'>\n",
      "<re.Match object; span=(14, 15), match='n'>\n",
      "<re.Match object; span=(15, 16), match='o'>\n",
      "<re.Match object; span=(16, 17), match='p'>\n",
      "<re.Match object; span=(17, 18), match='q'>\n",
      "<re.Match object; span=(18, 19), match='r'>\n",
      "<re.Match object; span=(19, 20), match='s'>\n",
      "<re.Match object; span=(20, 21), match='t'>\n",
      "<re.Match object; span=(21, 22), match='u'>\n",
      "<re.Match object; span=(22, 23), match='v'>\n",
      "<re.Match object; span=(23, 24), match='q'>\n",
      "<re.Match object; span=(24, 25), match='x'>\n",
      "<re.Match object; span=(25, 26), match='y'>\n",
      "<re.Match object; span=(26, 27), match='z'>\n",
      "<re.Match object; span=(28, 29), match='A'>\n",
      "<re.Match object; span=(29, 30), match='B'>\n",
      "<re.Match object; span=(30, 31), match='C'>\n",
      "<re.Match object; span=(31, 32), match='D'>\n",
      "<re.Match object; span=(32, 33), match='E'>\n",
      "<re.Match object; span=(33, 34), match='F'>\n",
      "<re.Match object; span=(34, 35), match='G'>\n",
      "<re.Match object; span=(35, 36), match='H'>\n",
      "<re.Match object; span=(36, 37), match='I'>\n",
      "<re.Match object; span=(37, 38), match='J'>\n",
      "<re.Match object; span=(38, 39), match='K'>\n",
      "<re.Match object; span=(39, 40), match='L'>\n",
      "<re.Match object; span=(40, 41), match='M'>\n",
      "<re.Match object; span=(41, 42), match='N'>\n",
      "<re.Match object; span=(42, 43), match='O'>\n",
      "<re.Match object; span=(43, 44), match='P'>\n",
      "<re.Match object; span=(44, 45), match='Q'>\n",
      "<re.Match object; span=(45, 46), match='R'>\n",
      "<re.Match object; span=(46, 47), match='S'>\n",
      "<re.Match object; span=(47, 48), match='T'>\n",
      "<re.Match object; span=(48, 49), match='U'>\n",
      "<re.Match object; span=(49, 50), match='V'>\n",
      "<re.Match object; span=(50, 51), match='W'>\n",
      "<re.Match object; span=(51, 52), match='X'>\n",
      "<re.Match object; span=(52, 53), match='Y'>\n",
      "<re.Match object; span=(53, 54), match='Z'>\n",
      "<re.Match object; span=(55, 56), match='1'>\n",
      "<re.Match object; span=(56, 57), match='2'>\n",
      "<re.Match object; span=(57, 58), match='3'>\n",
      "<re.Match object; span=(58, 59), match='4'>\n",
      "<re.Match object; span=(59, 60), match='5'>\n",
      "<re.Match object; span=(60, 61), match='6'>\n",
      "<re.Match object; span=(61, 62), match='7'>\n",
      "<re.Match object; span=(62, 63), match='8'>\n",
      "<re.Match object; span=(63, 64), match='9'>\n",
      "<re.Match object; span=(64, 65), match='0'>\n",
      "<re.Match object; span=(67, 68), match='H'>\n",
      "<re.Match object; span=(68, 69), match='a'>\n",
      "<re.Match object; span=(69, 70), match=' '>\n",
      "<re.Match object; span=(70, 71), match='H'>\n",
      "<re.Match object; span=(71, 72), match='a'>\n",
      "<re.Match object; span=(72, 73), match='H'>\n",
      "<re.Match object; span=(73, 74), match='a'>\n",
      "<re.Match object; span=(76, 77), match='M'>\n",
      "<re.Match object; span=(77, 78), match='e'>\n",
      "<re.Match object; span=(78, 79), match='t'>\n",
      "<re.Match object; span=(79, 80), match='a'>\n",
      "<re.Match object; span=(80, 81), match='C'>\n",
      "<re.Match object; span=(81, 82), match='h'>\n",
      "<re.Match object; span=(82, 83), match='a'>\n",
      "<re.Match object; span=(83, 84), match='r'>\n",
      "<re.Match object; span=(84, 85), match='a'>\n",
      "<re.Match object; span=(85, 86), match='c'>\n",
      "<re.Match object; span=(86, 87), match='t'>\n",
      "<re.Match object; span=(87, 88), match='e'>\n",
      "<re.Match object; span=(88, 89), match='r'>\n",
      "<re.Match object; span=(89, 90), match='s'>\n",
      "<re.Match object; span=(90, 91), match=' '>\n",
      "<re.Match object; span=(91, 92), match='('>\n",
      "<re.Match object; span=(92, 93), match='N'>\n",
      "<re.Match object; span=(93, 94), match='e'>\n",
      "<re.Match object; span=(94, 95), match='e'>\n",
      "<re.Match object; span=(95, 96), match='d'>\n",
      "<re.Match object; span=(96, 97), match=' '>\n",
      "<re.Match object; span=(97, 98), match='t'>\n",
      "<re.Match object; span=(98, 99), match='o'>\n",
      "<re.Match object; span=(99, 100), match=' '>\n",
      "<re.Match object; span=(100, 101), match='b'>\n",
      "<re.Match object; span=(101, 102), match='e'>\n",
      "<re.Match object; span=(102, 103), match=' '>\n",
      "<re.Match object; span=(103, 104), match='e'>\n",
      "<re.Match object; span=(104, 105), match='s'>\n",
      "<re.Match object; span=(105, 106), match='c'>\n",
      "<re.Match object; span=(106, 107), match='a'>\n",
      "<re.Match object; span=(107, 108), match='p'>\n",
      "<re.Match object; span=(108, 109), match='e'>\n",
      "<re.Match object; span=(109, 110), match='d'>\n",
      "<re.Match object; span=(110, 111), match=')'>\n",
      "<re.Match object; span=(111, 112), match=':'>\n",
      "<re.Match object; span=(113, 114), match='.'>\n",
      "<re.Match object; span=(114, 115), match=' '>\n",
      "<re.Match object; span=(115, 116), match='^'>\n",
      "<re.Match object; span=(116, 117), match=' '>\n",
      "<re.Match object; span=(117, 118), match='$'>\n",
      "<re.Match object; span=(118, 119), match=' '>\n",
      "<re.Match object; span=(119, 120), match='*'>\n",
      "<re.Match object; span=(120, 121), match=' '>\n",
      "<re.Match object; span=(121, 122), match='+'>\n",
      "<re.Match object; span=(122, 123), match=' '>\n",
      "<re.Match object; span=(123, 124), match='?'>\n",
      "<re.Match object; span=(124, 125), match=' '>\n",
      "<re.Match object; span=(125, 126), match='{'>\n",
      "<re.Match object; span=(126, 127), match=' '>\n",
      "<re.Match object; span=(127, 128), match='}'>\n",
      "<re.Match object; span=(128, 129), match=' '>\n",
      "<re.Match object; span=(129, 130), match='['>\n",
      "<re.Match object; span=(130, 131), match=' '>\n",
      "<re.Match object; span=(131, 132), match=']'>\n",
      "<re.Match object; span=(132, 133), match=' '>\n",
      "<re.Match object; span=(133, 134), match='\\\\'>\n",
      "<re.Match object; span=(134, 135), match=' '>\n",
      "<re.Match object; span=(135, 136), match='|'>\n",
      "<re.Match object; span=(136, 137), match=' '>\n",
      "<re.Match object; span=(137, 138), match='('>\n",
      "<re.Match object; span=(138, 139), match=' '>\n",
      "<re.Match object; span=(139, 140), match=')'>\n",
      "<re.Match object; span=(142, 143), match='c'>\n",
      "<re.Match object; span=(143, 144), match='o'>\n",
      "<re.Match object; span=(144, 145), match='r'>\n",
      "<re.Match object; span=(145, 146), match='e'>\n",
      "<re.Match object; span=(146, 147), match='y'>\n",
      "<re.Match object; span=(147, 148), match='m'>\n",
      "<re.Match object; span=(148, 149), match='s'>\n",
      "<re.Match object; span=(149, 150), match='.'>\n",
      "<re.Match object; span=(150, 151), match='c'>\n",
      "<re.Match object; span=(151, 152), match='o'>\n",
      "<re.Match object; span=(152, 153), match='m'>\n",
      "<re.Match object; span=(155, 156), match='3'>\n",
      "<re.Match object; span=(156, 157), match='2'>\n",
      "<re.Match object; span=(157, 158), match='1'>\n",
      "<re.Match object; span=(158, 159), match='-'>\n",
      "<re.Match object; span=(159, 160), match='5'>\n",
      "<re.Match object; span=(160, 161), match='5'>\n",
      "<re.Match object; span=(161, 162), match='5'>\n",
      "<re.Match object; span=(162, 163), match='-'>\n",
      "<re.Match object; span=(163, 164), match='4'>\n",
      "<re.Match object; span=(164, 165), match='3'>\n",
      "<re.Match object; span=(165, 166), match='2'>\n",
      "<re.Match object; span=(166, 167), match='1'>\n",
      "<re.Match object; span=(168, 169), match='1'>\n",
      "<re.Match object; span=(169, 170), match='2'>\n",
      "<re.Match object; span=(170, 171), match='3'>\n",
      "<re.Match object; span=(171, 172), match='.'>\n",
      "<re.Match object; span=(172, 173), match='5'>\n",
      "<re.Match object; span=(173, 174), match='5'>\n",
      "<re.Match object; span=(174, 175), match='5'>\n",
      "<re.Match object; span=(175, 176), match='.'>\n",
      "<re.Match object; span=(176, 177), match='1'>\n",
      "<re.Match object; span=(177, 178), match='2'>\n",
      "<re.Match object; span=(178, 179), match='3'>\n",
      "<re.Match object; span=(179, 180), match='4'>\n",
      "<re.Match object; span=(182, 183), match='M'>\n",
      "<re.Match object; span=(183, 184), match='r'>\n",
      "<re.Match object; span=(184, 185), match='.'>\n",
      "<re.Match object; span=(185, 186), match=' '>\n",
      "<re.Match object; span=(186, 187), match='S'>\n",
      "<re.Match object; span=(187, 188), match='c'>\n",
      "<re.Match object; span=(188, 189), match='h'>\n",
      "<re.Match object; span=(189, 190), match='a'>\n",
      "<re.Match object; span=(190, 191), match='f'>\n",
      "<re.Match object; span=(191, 192), match='e'>\n",
      "<re.Match object; span=(192, 193), match='r'>\n",
      "<re.Match object; span=(194, 195), match='M'>\n",
      "<re.Match object; span=(195, 196), match='r'>\n",
      "<re.Match object; span=(196, 197), match=' '>\n",
      "<re.Match object; span=(197, 198), match='S'>\n",
      "<re.Match object; span=(198, 199), match='m'>\n",
      "<re.Match object; span=(199, 200), match='i'>\n",
      "<re.Match object; span=(200, 201), match='t'>\n",
      "<re.Match object; span=(201, 202), match='h'>\n",
      "<re.Match object; span=(203, 204), match='M'>\n",
      "<re.Match object; span=(204, 205), match='s'>\n",
      "<re.Match object; span=(205, 206), match=' '>\n",
      "<re.Match object; span=(206, 207), match='D'>\n",
      "<re.Match object; span=(207, 208), match='a'>\n",
      "<re.Match object; span=(208, 209), match='v'>\n",
      "<re.Match object; span=(209, 210), match='i'>\n",
      "<re.Match object; span=(210, 211), match='s'>\n",
      "<re.Match object; span=(212, 213), match='M'>\n",
      "<re.Match object; span=(213, 214), match='r'>\n",
      "<re.Match object; span=(214, 215), match='s'>\n",
      "<re.Match object; span=(215, 216), match='.'>\n",
      "<re.Match object; span=(216, 217), match=' '>\n",
      "<re.Match object; span=(217, 218), match='R'>\n",
      "<re.Match object; span=(218, 219), match='o'>\n",
      "<re.Match object; span=(219, 220), match='b'>\n",
      "<re.Match object; span=(220, 221), match='i'>\n",
      "<re.Match object; span=(221, 222), match='n'>\n",
      "<re.Match object; span=(222, 223), match='s'>\n",
      "<re.Match object; span=(223, 224), match='o'>\n",
      "<re.Match object; span=(224, 225), match='n'>\n",
      "<re.Match object; span=(226, 227), match='M'>\n",
      "<re.Match object; span=(227, 228), match='r'>\n",
      "<re.Match object; span=(228, 229), match='.'>\n",
      "<re.Match object; span=(229, 230), match=' '>\n",
      "<re.Match object; span=(230, 231), match='T'>\n"
     ]
    }
   ],
   "source": [
    "\n",
    "pattern = re.compile(r'.')\n",
    "matches = pattern.finditer(text_to_search)\n",
    "\n",
    "for match in matches:\n",
    "    print(match)\n",
    "#it matches with everycharacter because it is special character match with every character"
   ]
  },
  {
   "cell_type": "code",
   "execution_count": 14,
   "metadata": {},
   "outputs": [
    {
     "name": "stdout",
     "output_type": "stream",
     "text": [
      "<re.Match object; span=(113, 114), match='.'>\n",
      "<re.Match object; span=(149, 150), match='.'>\n",
      "<re.Match object; span=(171, 172), match='.'>\n",
      "<re.Match object; span=(175, 176), match='.'>\n",
      "<re.Match object; span=(184, 185), match='.'>\n",
      "<re.Match object; span=(215, 216), match='.'>\n",
      "<re.Match object; span=(228, 229), match='.'>\n"
     ]
    }
   ],
   "source": [
    "#escaping characters exa\n",
    "pattern = re.compile(r'\\.')# apply \\ to avoid it being considers as special character\n",
    "matches = pattern.finditer(text_to_search)\n",
    "\n",
    "for match in matches:\n",
    "    print(match)\n",
    "#it matches with everycharacter because it is special character match with every charactermple"
   ]
  },
  {
   "cell_type": "code",
   "execution_count": 17,
   "metadata": {},
   "outputs": [
    {
     "name": "stdout",
     "output_type": "stream",
     "text": [
      "<re.Match object; span=(149, 153), match='.com'>\n"
     ]
    }
   ],
   "source": [
    "#example\n",
    "pattern = re.compile(r'\\.com')\n",
    "matches = pattern.finditer(text_to_search)\n",
    "\n",
    "for match in matches:\n",
    "    print(match) "
   ]
  },
  {
   "cell_type": "markdown",
   "metadata": {},
   "source": [
    "# What Matches What\n",
    "\n",
    ".     - Any Character Except the New Line\n",
    "\n",
    "\\d    - Digit(0-9)\n",
    "\n",
    "\\D    - Not a Digit(0-9)\n",
    "\n",
    "\\w    - Word Character (a-z, A-Z, 0-9, _)\n",
    "\n",
    "\\W    - Not a Word Character\n",
    "\n",
    "\\s    - Whitespace (space, ab, Newline)\n",
    "\n",
    "\\S    - Whitespace (space, ab, Newline)\n",
    "\n",
    "\\b    - Word Boundary #only matches when start of string is WhiteSpace\n",
    "\n",
    "\\B    - Not a Word Boundary\n",
    "\n",
    "^     - Beginning of a string\n",
    "\n",
    "$     - End of a String\n",
    "\n",
    "[]    - between the square brackets what ever character you write will be matched\n",
    "\n",
    "[^ ]  - Match character not in brackets\n",
    "\n",
    "|     - Either Or\n",
    "\n",
    "( )   - Group"
   ]
  },
  {
   "cell_type": "code",
   "execution_count": 22,
   "metadata": {},
   "outputs": [
    {
     "name": "stdout",
     "output_type": "stream",
     "text": [
      "<re.Match object; span=(67, 69), match='Ha'>\n",
      "<re.Match object; span=(70, 72), match='Ha'>\n",
      "<re.Match object; span=(75, 77), match='Ha'>\n"
     ]
    }
   ],
   "source": [
    "#example\n",
    "pattern = re.compile(r'\\bHa')\n",
    "matches = pattern.finditer(text_to_search)\n",
    "\n",
    "for match in matches:\n",
    "    print(match)"
   ]
  },
  {
   "cell_type": "code",
   "execution_count": 24,
   "metadata": {},
   "outputs": [
    {
     "name": "stdout",
     "output_type": "stream",
     "text": [
      "<re.Match object; span=(0, 5), match='Start'>\n"
     ]
    }
   ],
   "source": [
    "#example\n",
    "pattern = re.compile(r'^Start')\n",
    "matches = pattern.finditer(sentence)\n",
    "\n",
    "for match in matches:\n",
    "    print(match)"
   ]
  },
  {
   "cell_type": "code",
   "execution_count": 31,
   "metadata": {},
   "outputs": [],
   "source": [
    "#example\n",
    "pattern = re.compile(r'^a')\n",
    "matches = pattern.finditer(sentence)\n",
    "\n",
    "for match in matches:\n",
    "    print(match)"
   ]
  },
  {
   "cell_type": "code",
   "execution_count": 32,
   "metadata": {},
   "outputs": [],
   "source": [
    "#example\n",
    "pattern = re.compile(r'a$')\n",
    "matches = pattern.finditer(sentence)\n",
    "\n",
    "for match in matches:\n",
    "    print(match)"
   ]
  },
  {
   "cell_type": "code",
   "execution_count": 33,
   "metadata": {},
   "outputs": [
    {
     "name": "stdout",
     "output_type": "stream",
     "text": [
      "<re.Match object; span=(41, 44), match='end'>\n"
     ]
    }
   ],
   "source": [
    "#example\n",
    "pattern = re.compile(r'end$')\n",
    "matches = pattern.finditer(sentence)\n",
    "\n",
    "for match in matches:\n",
    "    print(match)\n",
    "#it matches with everycharacter because it is special character match with every character"
   ]
  },
  {
   "cell_type": "markdown",
   "metadata": {},
   "source": []
  },
  {
   "cell_type": "code",
   "execution_count": 35,
   "metadata": {},
   "outputs": [
    {
     "name": "stdout",
     "output_type": "stream",
     "text": [
      "<re.Match object; span=(55, 58), match='123'>\n",
      "<re.Match object; span=(58, 61), match='456'>\n",
      "<re.Match object; span=(61, 64), match='789'>\n",
      "<re.Match object; span=(162, 165), match='321'>\n",
      "<re.Match object; span=(166, 169), match='555'>\n",
      "<re.Match object; span=(170, 173), match='432'>\n",
      "<re.Match object; span=(175, 178), match='123'>\n",
      "<re.Match object; span=(179, 182), match='555'>\n",
      "<re.Match object; span=(183, 186), match='123'>\n"
     ]
    }
   ],
   "source": [
    "pattern = re.compile(r'\\d\\d\\d')#matches the 3 consecutive digits \n",
    "matches = pattern.finditer(text_to_search)\n",
    " \n",
    "for match in matches:\n",
    "    print(match)"
   ]
  },
  {
   "cell_type": "code",
   "execution_count": 39,
   "metadata": {},
   "outputs": [
    {
     "name": "stdout",
     "output_type": "stream",
     "text": [
      "<re.Match object; span=(162, 174), match='321-555-4321'>\n",
      "<re.Match object; span=(175, 187), match='123.555.1234'>\n",
      "<re.Match object; span=(188, 200), match='123*555*1234'>\n"
     ]
    }
   ],
   "source": [
    "pattern = re.compile(r'\\d\\d\\d.\\d\\d\\d.\\d\\d\\d\\d')#. matches anything\n",
    "matches = pattern.finditer(text_to_search)\n",
    "\n",
    "for match in matches:\n",
    "    print(match)"
   ]
  },
  {
   "cell_type": "code",
   "execution_count": 40,
   "metadata": {},
   "outputs": [
    {
     "name": "stdout",
     "output_type": "stream",
     "text": [
      "<re.Match object; span=(162, 174), match='321-555-4321'>\n",
      "<re.Match object; span=(175, 187), match='123.555.1234'>\n"
     ]
    }
   ],
   "source": [
    "pattern = re.compile(r'\\d\\d\\d[-.]\\d\\d\\d[-.]\\d\\d\\d\\d')# [] matches whatever is inside it . is not special not A-Z a-z 0-9\n",
    "#- is pecial chater which specify range and character\n",
    "matches = pattern.finditer(text_to_search)\n",
    "\n",
    "for match in matches:\n",
    "    print(match)"
   ]
  },
  {
   "cell_type": "code",
   "execution_count": 52,
   "metadata": {
    "scrolled": true
   },
   "outputs": [
    {
     "name": "stdout",
     "output_type": "stream",
     "text": [
      "<re.Match object; span=(0, 1), match='\\n'>\n",
      "<re.Match object; span=(27, 28), match='\\n'>\n",
      "<re.Match object; span=(54, 55), match='\\n'>\n",
      "<re.Match object; span=(55, 56), match='1'>\n",
      "<re.Match object; span=(56, 57), match='2'>\n",
      "<re.Match object; span=(57, 58), match='3'>\n",
      "<re.Match object; span=(58, 59), match='4'>\n",
      "<re.Match object; span=(59, 60), match='5'>\n",
      "<re.Match object; span=(60, 61), match='6'>\n",
      "<re.Match object; span=(61, 62), match='7'>\n",
      "<re.Match object; span=(62, 63), match='8'>\n",
      "<re.Match object; span=(63, 64), match='9'>\n",
      "<re.Match object; span=(64, 65), match='0'>\n",
      "<re.Match object; span=(65, 66), match='\\n'>\n",
      "<re.Match object; span=(66, 67), match='\\n'>\n",
      "<re.Match object; span=(69, 70), match=' '>\n",
      "<re.Match object; span=(74, 75), match=' '>\n",
      "<re.Match object; span=(81, 82), match='\\n'>\n",
      "<re.Match object; span=(82, 83), match='\\n'>\n",
      "<re.Match object; span=(97, 98), match=' '>\n",
      "<re.Match object; span=(98, 99), match='('>\n",
      "<re.Match object; span=(103, 104), match=' '>\n",
      "<re.Match object; span=(106, 107), match=' '>\n",
      "<re.Match object; span=(109, 110), match=' '>\n",
      "<re.Match object; span=(117, 118), match=')'>\n",
      "<re.Match object; span=(118, 119), match=':'>\n",
      "<re.Match object; span=(119, 120), match='\\n'>\n",
      "<re.Match object; span=(120, 121), match='.'>\n",
      "<re.Match object; span=(121, 122), match=' '>\n",
      "<re.Match object; span=(122, 123), match='^'>\n",
      "<re.Match object; span=(123, 124), match=' '>\n",
      "<re.Match object; span=(124, 125), match='$'>\n",
      "<re.Match object; span=(125, 126), match=' '>\n",
      "<re.Match object; span=(126, 127), match='*'>\n",
      "<re.Match object; span=(127, 128), match=' '>\n",
      "<re.Match object; span=(128, 129), match='+'>\n",
      "<re.Match object; span=(129, 130), match=' '>\n",
      "<re.Match object; span=(130, 131), match='?'>\n",
      "<re.Match object; span=(131, 132), match=' '>\n",
      "<re.Match object; span=(132, 133), match='{'>\n",
      "<re.Match object; span=(133, 134), match=' '>\n",
      "<re.Match object; span=(134, 135), match='}'>\n",
      "<re.Match object; span=(135, 136), match=' '>\n",
      "<re.Match object; span=(136, 137), match='['>\n",
      "<re.Match object; span=(137, 138), match=' '>\n",
      "<re.Match object; span=(138, 139), match=']'>\n",
      "<re.Match object; span=(139, 140), match=' '>\n",
      "<re.Match object; span=(140, 141), match='\\\\'>\n",
      "<re.Match object; span=(141, 142), match=' '>\n",
      "<re.Match object; span=(142, 143), match='|'>\n",
      "<re.Match object; span=(143, 144), match=' '>\n",
      "<re.Match object; span=(144, 145), match='('>\n",
      "<re.Match object; span=(145, 146), match=' '>\n",
      "<re.Match object; span=(146, 147), match=')'>\n",
      "<re.Match object; span=(147, 148), match='\\n'>\n",
      "<re.Match object; span=(148, 149), match='\\n'>\n",
      "<re.Match object; span=(156, 157), match='.'>\n",
      "<re.Match object; span=(160, 161), match='\\n'>\n",
      "<re.Match object; span=(161, 162), match='\\n'>\n",
      "<re.Match object; span=(162, 163), match='3'>\n",
      "<re.Match object; span=(163, 164), match='2'>\n",
      "<re.Match object; span=(164, 165), match='1'>\n",
      "<re.Match object; span=(165, 166), match='-'>\n",
      "<re.Match object; span=(166, 167), match='5'>\n",
      "<re.Match object; span=(167, 168), match='5'>\n",
      "<re.Match object; span=(168, 169), match='5'>\n",
      "<re.Match object; span=(169, 170), match='-'>\n",
      "<re.Match object; span=(170, 171), match='4'>\n",
      "<re.Match object; span=(171, 172), match='3'>\n",
      "<re.Match object; span=(172, 173), match='2'>\n",
      "<re.Match object; span=(173, 174), match='1'>\n",
      "<re.Match object; span=(174, 175), match='\\n'>\n",
      "<re.Match object; span=(175, 176), match='1'>\n",
      "<re.Match object; span=(176, 177), match='2'>\n",
      "<re.Match object; span=(177, 178), match='3'>\n",
      "<re.Match object; span=(178, 179), match='.'>\n",
      "<re.Match object; span=(179, 180), match='5'>\n",
      "<re.Match object; span=(180, 181), match='5'>\n",
      "<re.Match object; span=(181, 182), match='5'>\n",
      "<re.Match object; span=(182, 183), match='.'>\n",
      "<re.Match object; span=(183, 184), match='1'>\n",
      "<re.Match object; span=(184, 185), match='2'>\n",
      "<re.Match object; span=(185, 186), match='3'>\n",
      "<re.Match object; span=(186, 187), match='4'>\n",
      "<re.Match object; span=(187, 188), match='\\n'>\n",
      "<re.Match object; span=(188, 189), match='1'>\n",
      "<re.Match object; span=(189, 190), match='2'>\n",
      "<re.Match object; span=(190, 191), match='3'>\n",
      "<re.Match object; span=(191, 192), match='*'>\n",
      "<re.Match object; span=(192, 193), match='5'>\n",
      "<re.Match object; span=(193, 194), match='5'>\n",
      "<re.Match object; span=(194, 195), match='5'>\n",
      "<re.Match object; span=(195, 196), match='*'>\n",
      "<re.Match object; span=(196, 197), match='1'>\n",
      "<re.Match object; span=(197, 198), match='2'>\n",
      "<re.Match object; span=(198, 199), match='3'>\n",
      "<re.Match object; span=(199, 200), match='4'>\n",
      "<re.Match object; span=(200, 201), match='\\n'>\n",
      "<re.Match object; span=(201, 202), match='\\n'>\n",
      "<re.Match object; span=(202, 203), match='\\n'>\n",
      "<re.Match object; span=(205, 206), match='.'>\n",
      "<re.Match object; span=(206, 207), match=' '>\n",
      "<re.Match object; span=(214, 215), match='\\n'>\n",
      "<re.Match object; span=(217, 218), match=' '>\n",
      "<re.Match object; span=(223, 224), match='\\n'>\n",
      "<re.Match object; span=(226, 227), match=' '>\n",
      "<re.Match object; span=(232, 233), match='\\n'>\n",
      "<re.Match object; span=(236, 237), match='.'>\n",
      "<re.Match object; span=(237, 238), match=' '>\n",
      "<re.Match object; span=(246, 247), match='\\n'>\n",
      "<re.Match object; span=(249, 250), match='.'>\n",
      "<re.Match object; span=(250, 251), match=' '>\n",
      "<re.Match object; span=(252, 253), match='\\n'>\n"
     ]
    }
   ],
   "source": [
    "pattern = re.compile(r'[^a-zA-Z]')# #here ^ specify ^ not this character \n",
    "matches = pattern.finditer(text_to_search)\n",
    "for match in matches:\n",
    "    print(match)"
   ]
  },
  {
   "cell_type": "markdown",
   "metadata": {},
   "source": [
    "#Quantifiers\n",
    "*     - 0 or more\n",
    "\n",
    "+     - 1 or more\n",
    "\n",
    "?     - 0 or 1\n",
    "\n",
    "{3}   - Exact Number\n",
    "\n",
    "{3,4} - Range of numbers want not match"
   ]
  },
  {
   "cell_type": "code",
   "execution_count": 53,
   "metadata": {},
   "outputs": [
    {
     "name": "stdout",
     "output_type": "stream",
     "text": [
      "<re.Match object; span=(162, 174), match='321-555-4321'>\n",
      "<re.Match object; span=(175, 187), match='123.555.1234'>\n",
      "<re.Match object; span=(188, 200), match='123*555*1234'>\n"
     ]
    }
   ],
   "source": [
    "pattern = re.compile(r'\\d{3}.\\d{3}.\\d{4}')\n",
    "matches = pattern.finditer(text_to_search)\n",
    "for match in matches:\n",
    "    print(match)"
   ]
  },
  {
   "cell_type": "code",
   "execution_count": 58,
   "metadata": {},
   "outputs": [
    {
     "name": "stdout",
     "output_type": "stream",
     "text": [
      "<re.Match object; span=(203, 214), match='Mr. Schafer'>\n",
      "<re.Match object; span=(215, 223), match='Mr Smith'>\n",
      "<re.Match object; span=(247, 252), match='Mr. T'>\n"
     ]
    }
   ],
   "source": [
    "pattern = re.compile(r'Mr\\.?\\s[a-zA-Z]*') \n",
    "matches = pattern.finditer(text_to_search)\n",
    "for match in matches:\n",
    "    print(match)"
   ]
  },
  {
   "cell_type": "markdown",
   "metadata": {},
   "source": [
    "now Mr, Mr. can be matched but not Mrs, Ms, Ms. for that we use group"
   ]
  },
  {
   "cell_type": "code",
   "execution_count": 60,
   "metadata": {},
   "outputs": [
    {
     "name": "stdout",
     "output_type": "stream",
     "text": [
      "<re.Match object; span=(203, 214), match='Mr. Schafer'>\n",
      "<re.Match object; span=(215, 223), match='Mr Smith'>\n",
      "<re.Match object; span=(224, 232), match='Ms Davis'>\n",
      "<re.Match object; span=(233, 246), match='Mrs. Robinson'>\n",
      "<re.Match object; span=(247, 252), match='Mr. T'>\n"
     ]
    }
   ],
   "source": [
    "pattern = re.compile(r'M(r|s|rs)\\.?\\s[a-zA-Z]*') \n",
    "matches = pattern.finditer(text_to_search)\n",
    "for match in matches:\n",
    "    print(match)"
   ]
  },
  {
   "cell_type": "markdown",
   "metadata": {},
   "source": [
    "Example of email set"
   ]
  },
  {
   "cell_type": "code",
   "execution_count": 71,
   "metadata": {},
   "outputs": [],
   "source": [
    "emails = '''\n",
    "vcdshvfjavbjdca@gbdsj.com\n",
    "dcsajcuhx.advausvd@bdcskj.edu\n",
    "vdjqhvbdc.wdcx-csdcsd@bvf-cdncj.net\n",
    "\n",
    "'''"
   ]
  },
  {
   "cell_type": "code",
   "execution_count": 75,
   "metadata": {},
   "outputs": [
    {
     "name": "stdout",
     "output_type": "stream",
     "text": [
      "<re.Match object; span=(1, 26), match='vcdshvfjavbjdca@gbdsj.com'>\n",
      "<re.Match object; span=(27, 56), match='dcsajcuhx.advausvd@bdcskj.edu'>\n",
      "<re.Match object; span=(57, 92), match='vdjqhvbdc.wdcx-csdcsd@bvf-cdncj.net'>\n"
     ]
    }
   ],
   "source": [
    "pattern = re.compile(r'[a-zA-Z.-]+@[A-Za-z-]+\\.(com|net|edu)')\n",
    "\n",
    "matches = pattern.finditer(emails)\n",
    "for match in matches:\n",
    "    print(match)"
   ]
  },
  {
   "cell_type": "markdown",
   "metadata": {},
   "source": [
    ".findall  - ablicable for groups only if not group present then it will return only the answer not object\n",
    "\n",
    ".match    - this return the match string not the iterable\n",
    "\n",
    ".search   - works similar to .match"
   ]
  },
  {
   "cell_type": "code",
   "execution_count": 76,
   "metadata": {},
   "outputs": [
    {
     "name": "stdout",
     "output_type": "stream",
     "text": [
      "<re.Match object; span=(0, 5), match='Start'>\n"
     ]
    }
   ],
   "source": [
    "pattern = re.compile(r'start',re.IGNORECASE)\n",
    "matches = pattern.finditer(sentence)\n",
    "\n",
    "for i in matches:\n",
    "    print(i)"
   ]
  },
  {
   "cell_type": "code",
   "execution_count": null,
   "metadata": {},
   "outputs": [],
   "source": []
  }
 ],
 "metadata": {
  "kernelspec": {
   "display_name": "Python 3",
   "language": "python",
   "name": "python3"
  },
  "language_info": {
   "codemirror_mode": {
    "name": "ipython",
    "version": 3
   },
   "file_extension": ".py",
   "mimetype": "text/x-python",
   "name": "python",
   "nbconvert_exporter": "python",
   "pygments_lexer": "ipython3",
   "version": "3.7.1"
  }
 },
 "nbformat": 4,
 "nbformat_minor": 2
}
